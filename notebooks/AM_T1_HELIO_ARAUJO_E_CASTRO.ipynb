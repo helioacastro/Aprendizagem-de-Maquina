{
 "cells": [
  {
   "cell_type": "markdown",
   "metadata": {},
   "source": [
    "As bibliotecas necessárias são importadas. A biblioteca Numpy para manipulação numérica das matrizes, a biblioteca Pandas para criar os dataframes, a biblioteca para separar a matriz de teste e aprendizagem train_test_split, os modelos de algoritmo de classificação pedidos no exercício: Regressão Logística, Arvore de Decisão, RandomForest, KNeighbors, Gradient Boosting, uma biblioteca para pré-processamento do dataset (StandardScaler) e a biblioteca para medir a qualidade preditiva dos modelos (accuracy_score, confusion_matrix e classification_report)"
   ]
  },
  {
   "cell_type": "code",
   "execution_count": 53,
   "metadata": {},
   "outputs": [],
   "source": [
    "# Importar as bibliotecas\n",
    "import numpy as np\n",
    "import pandas as pd\n",
    "import matplotlib.pyplot as plt\n",
    "import seaborn as sns\n",
    "from sklearn.model_selection import train_test_split\n",
    "from sklearn.linear_model import LogisticRegression\n",
    "from sklearn.tree import DecisionTreeClassifier\n",
    "from sklearn.ensemble import RandomForestClassifier\n",
    "from sklearn.neighbors import KNeighborsClassifier\n",
    "from sklearn.ensemble import GradientBoostingClassifier\n",
    "from sklearn.metrics import accuracy_score, confusion_matrix, classification_report\n",
    "from sklearn.preprocessing import StandardScaler"
   ]
  },
  {
   "cell_type": "markdown",
   "metadata": {},
   "source": [
    "Fazer a carga dos datasets a partir dos arquivos credtrain.txt e credtest.txt, passando o nome das colunas. Verificar se o dataset foi carregado corretamente e analisar o conteúdo do dataset"
   ]
  },
  {
   "cell_type": "code",
   "execution_count": 54,
   "metadata": {},
   "outputs": [],
   "source": [
    "# Define o nomes das colunas\n",
    "nomes_colunas = ['ESCT', 'NDEP', 'RENDA', 'TIPOR', 'VBEM', 'NPARC', 'VPARC', 'TEL', 'IDADE', 'RESMS', 'ENTRADA', 'CLASSE']\n",
    "\n",
    "# Carrega o dataset de treinamento\n",
    "dsTrain = pd.read_csv('../data/credtrain.txt', names=nomes_colunas, sep='\\t', header=0)\n",
    "\n",
    "# Carrega o dataset de teste\n",
    "dsTeste = pd.read_csv('../data/credtest.txt', names=nomes_colunas, sep='\\t', header=0 )\n"
   ]
  },
  {
   "cell_type": "code",
   "execution_count": 55,
   "metadata": {},
   "outputs": [
    {
     "name": "stdout",
     "output_type": "stream",
     "text": [
      "<class 'pandas.core.frame.DataFrame'>\n",
      "RangeIndex: 1499 entries, 0 to 1498\n",
      "Data columns (total 12 columns):\n",
      " #   Column   Non-Null Count  Dtype\n",
      "---  ------   --------------  -----\n",
      " 0   ESCT     1499 non-null   int64\n",
      " 1   NDEP     1499 non-null   int64\n",
      " 2   RENDA    1499 non-null   int64\n",
      " 3   TIPOR    1499 non-null   int64\n",
      " 4   VBEM     1499 non-null   int64\n",
      " 5   NPARC    1499 non-null   int64\n",
      " 6   VPARC    1499 non-null   int64\n",
      " 7   TEL      1499 non-null   int64\n",
      " 8   IDADE    1499 non-null   int64\n",
      " 9   RESMS    1499 non-null   int64\n",
      " 10  ENTRADA  1499 non-null   int64\n",
      " 11  CLASSE   1499 non-null   int64\n",
      "dtypes: int64(12)\n",
      "memory usage: 140.7 KB\n"
     ]
    },
    {
     "data": {
      "text/html": [
       "<div>\n",
       "<style scoped>\n",
       "    .dataframe tbody tr th:only-of-type {\n",
       "        vertical-align: middle;\n",
       "    }\n",
       "\n",
       "    .dataframe tbody tr th {\n",
       "        vertical-align: top;\n",
       "    }\n",
       "\n",
       "    .dataframe thead th {\n",
       "        text-align: right;\n",
       "    }\n",
       "</style>\n",
       "<table border=\"1\" class=\"dataframe\">\n",
       "  <thead>\n",
       "    <tr style=\"text-align: right;\">\n",
       "      <th></th>\n",
       "      <th>ESCT</th>\n",
       "      <th>NDEP</th>\n",
       "      <th>RENDA</th>\n",
       "      <th>TIPOR</th>\n",
       "      <th>VBEM</th>\n",
       "      <th>NPARC</th>\n",
       "      <th>VPARC</th>\n",
       "      <th>TEL</th>\n",
       "      <th>IDADE</th>\n",
       "      <th>RESMS</th>\n",
       "      <th>ENTRADA</th>\n",
       "      <th>CLASSE</th>\n",
       "    </tr>\n",
       "  </thead>\n",
       "  <tbody>\n",
       "    <tr>\n",
       "      <th>count</th>\n",
       "      <td>1499.000000</td>\n",
       "      <td>1499.000000</td>\n",
       "      <td>1499.000000</td>\n",
       "      <td>1499.000000</td>\n",
       "      <td>1499.000000</td>\n",
       "      <td>1499.000000</td>\n",
       "      <td>1499.000000</td>\n",
       "      <td>1499.000000</td>\n",
       "      <td>1499.000000</td>\n",
       "      <td>1499.000000</td>\n",
       "      <td>1499.000000</td>\n",
       "      <td>1499.000000</td>\n",
       "    </tr>\n",
       "    <tr>\n",
       "      <th>mean</th>\n",
       "      <td>0.511674</td>\n",
       "      <td>0.126751</td>\n",
       "      <td>984.928619</td>\n",
       "      <td>0.445630</td>\n",
       "      <td>562.197465</td>\n",
       "      <td>8.392262</td>\n",
       "      <td>102.280854</td>\n",
       "      <td>0.134089</td>\n",
       "      <td>41.221481</td>\n",
       "      <td>31.517678</td>\n",
       "      <td>32.276851</td>\n",
       "      <td>0.476318</td>\n",
       "    </tr>\n",
       "    <tr>\n",
       "      <th>std</th>\n",
       "      <td>0.660009</td>\n",
       "      <td>0.573047</td>\n",
       "      <td>905.691299</td>\n",
       "      <td>0.497201</td>\n",
       "      <td>265.701366</td>\n",
       "      <td>3.610302</td>\n",
       "      <td>62.994960</td>\n",
       "      <td>0.340862</td>\n",
       "      <td>13.200024</td>\n",
       "      <td>52.677954</td>\n",
       "      <td>94.335403</td>\n",
       "      <td>0.499606</td>\n",
       "    </tr>\n",
       "    <tr>\n",
       "      <th>min</th>\n",
       "      <td>0.000000</td>\n",
       "      <td>0.000000</td>\n",
       "      <td>300.000000</td>\n",
       "      <td>0.000000</td>\n",
       "      <td>300.000000</td>\n",
       "      <td>1.000000</td>\n",
       "      <td>50.000000</td>\n",
       "      <td>0.000000</td>\n",
       "      <td>19.000000</td>\n",
       "      <td>0.000000</td>\n",
       "      <td>0.000000</td>\n",
       "      <td>0.000000</td>\n",
       "    </tr>\n",
       "    <tr>\n",
       "      <th>25%</th>\n",
       "      <td>0.000000</td>\n",
       "      <td>0.000000</td>\n",
       "      <td>468.500000</td>\n",
       "      <td>0.000000</td>\n",
       "      <td>410.000000</td>\n",
       "      <td>6.000000</td>\n",
       "      <td>66.000000</td>\n",
       "      <td>0.000000</td>\n",
       "      <td>31.000000</td>\n",
       "      <td>6.000000</td>\n",
       "      <td>0.000000</td>\n",
       "      <td>0.000000</td>\n",
       "    </tr>\n",
       "    <tr>\n",
       "      <th>50%</th>\n",
       "      <td>0.000000</td>\n",
       "      <td>0.000000</td>\n",
       "      <td>650.000000</td>\n",
       "      <td>0.000000</td>\n",
       "      <td>490.000000</td>\n",
       "      <td>10.000000</td>\n",
       "      <td>83.000000</td>\n",
       "      <td>0.000000</td>\n",
       "      <td>39.000000</td>\n",
       "      <td>6.000000</td>\n",
       "      <td>0.000000</td>\n",
       "      <td>0.000000</td>\n",
       "    </tr>\n",
       "    <tr>\n",
       "      <th>75%</th>\n",
       "      <td>1.000000</td>\n",
       "      <td>0.000000</td>\n",
       "      <td>1200.000000</td>\n",
       "      <td>1.000000</td>\n",
       "      <td>618.000000</td>\n",
       "      <td>10.000000</td>\n",
       "      <td>118.000000</td>\n",
       "      <td>0.000000</td>\n",
       "      <td>52.000000</td>\n",
       "      <td>48.000000</td>\n",
       "      <td>0.000000</td>\n",
       "      <td>1.000000</td>\n",
       "    </tr>\n",
       "    <tr>\n",
       "      <th>max</th>\n",
       "      <td>3.000000</td>\n",
       "      <td>7.000000</td>\n",
       "      <td>8000.000000</td>\n",
       "      <td>1.000000</td>\n",
       "      <td>4000.000000</td>\n",
       "      <td>24.000000</td>\n",
       "      <td>711.000000</td>\n",
       "      <td>1.000000</td>\n",
       "      <td>70.000000</td>\n",
       "      <td>420.000000</td>\n",
       "      <td>1300.000000</td>\n",
       "      <td>1.000000</td>\n",
       "    </tr>\n",
       "  </tbody>\n",
       "</table>\n",
       "</div>"
      ],
      "text/plain": [
       "              ESCT         NDEP        RENDA        TIPOR         VBEM  \\\n",
       "count  1499.000000  1499.000000  1499.000000  1499.000000  1499.000000   \n",
       "mean      0.511674     0.126751   984.928619     0.445630   562.197465   \n",
       "std       0.660009     0.573047   905.691299     0.497201   265.701366   \n",
       "min       0.000000     0.000000   300.000000     0.000000   300.000000   \n",
       "25%       0.000000     0.000000   468.500000     0.000000   410.000000   \n",
       "50%       0.000000     0.000000   650.000000     0.000000   490.000000   \n",
       "75%       1.000000     0.000000  1200.000000     1.000000   618.000000   \n",
       "max       3.000000     7.000000  8000.000000     1.000000  4000.000000   \n",
       "\n",
       "             NPARC        VPARC          TEL        IDADE        RESMS  \\\n",
       "count  1499.000000  1499.000000  1499.000000  1499.000000  1499.000000   \n",
       "mean      8.392262   102.280854     0.134089    41.221481    31.517678   \n",
       "std       3.610302    62.994960     0.340862    13.200024    52.677954   \n",
       "min       1.000000    50.000000     0.000000    19.000000     0.000000   \n",
       "25%       6.000000    66.000000     0.000000    31.000000     6.000000   \n",
       "50%      10.000000    83.000000     0.000000    39.000000     6.000000   \n",
       "75%      10.000000   118.000000     0.000000    52.000000    48.000000   \n",
       "max      24.000000   711.000000     1.000000    70.000000   420.000000   \n",
       "\n",
       "           ENTRADA       CLASSE  \n",
       "count  1499.000000  1499.000000  \n",
       "mean     32.276851     0.476318  \n",
       "std      94.335403     0.499606  \n",
       "min       0.000000     0.000000  \n",
       "25%       0.000000     0.000000  \n",
       "50%       0.000000     0.000000  \n",
       "75%       0.000000     1.000000  \n",
       "max    1300.000000     1.000000  "
      ]
     },
     "execution_count": 55,
     "metadata": {},
     "output_type": "execute_result"
    }
   ],
   "source": [
    "dsTrain.head()\n",
    "dsTeste.head()\n",
    "dsTrain.info()\n",
    "dsTrain.describe()"
   ]
  },
  {
   "cell_type": "markdown",
   "metadata": {},
   "source": [
    "No dataset apresentado é identificado alguns atributos categóricos, ainda que estejam representados numericamente, como: Estado Civil (ESCT), Tipo de residência (TIPOR) e se o cliente possui telefone (TEL). Nesses casos será aplicado a técnica de One-hot-encoding, que transpõe os domínios encontrados nestes atributos em campos nomeados destes valores. O campo de número de dependentes (NDEP), apesar de categório, apresenta-se de forma númerica e ordenada, característica coerente com a natureza deste atributo, sendo assim, não será necessário aplicar a técnica de One-hot-encoding em NDEP."
   ]
  },
  {
   "cell_type": "code",
   "execution_count": 56,
   "metadata": {},
   "outputs": [
    {
     "data": {
      "text/html": [
       "<div>\n",
       "<style scoped>\n",
       "    .dataframe tbody tr th:only-of-type {\n",
       "        vertical-align: middle;\n",
       "    }\n",
       "\n",
       "    .dataframe tbody tr th {\n",
       "        vertical-align: top;\n",
       "    }\n",
       "\n",
       "    .dataframe thead th {\n",
       "        text-align: right;\n",
       "    }\n",
       "</style>\n",
       "<table border=\"1\" class=\"dataframe\">\n",
       "  <thead>\n",
       "    <tr style=\"text-align: right;\">\n",
       "      <th></th>\n",
       "      <th>NDEP</th>\n",
       "      <th>RENDA</th>\n",
       "      <th>VBEM</th>\n",
       "      <th>NPARC</th>\n",
       "      <th>VPARC</th>\n",
       "      <th>IDADE</th>\n",
       "      <th>RESMS</th>\n",
       "      <th>ENTRADA</th>\n",
       "      <th>CLASSE</th>\n",
       "      <th>ESCT_0</th>\n",
       "      <th>ESCT_1</th>\n",
       "      <th>ESCT_2</th>\n",
       "      <th>ESCT_3</th>\n",
       "      <th>TIPOR_0</th>\n",
       "      <th>TIPOR_1</th>\n",
       "      <th>TEL_0</th>\n",
       "      <th>TEL_1</th>\n",
       "    </tr>\n",
       "  </thead>\n",
       "  <tbody>\n",
       "    <tr>\n",
       "      <th>0</th>\n",
       "      <td>0</td>\n",
       "      <td>813</td>\n",
       "      <td>552</td>\n",
       "      <td>4</td>\n",
       "      <td>119</td>\n",
       "      <td>43</td>\n",
       "      <td>48</td>\n",
       "      <td>119</td>\n",
       "      <td>1</td>\n",
       "      <td>False</td>\n",
       "      <td>True</td>\n",
       "      <td>False</td>\n",
       "      <td>False</td>\n",
       "      <td>True</td>\n",
       "      <td>False</td>\n",
       "      <td>True</td>\n",
       "      <td>False</td>\n",
       "    </tr>\n",
       "    <tr>\n",
       "      <th>1</th>\n",
       "      <td>0</td>\n",
       "      <td>350</td>\n",
       "      <td>488</td>\n",
       "      <td>12</td>\n",
       "      <td>66</td>\n",
       "      <td>43</td>\n",
       "      <td>0</td>\n",
       "      <td>0</td>\n",
       "      <td>1</td>\n",
       "      <td>False</td>\n",
       "      <td>False</td>\n",
       "      <td>False</td>\n",
       "      <td>True</td>\n",
       "      <td>True</td>\n",
       "      <td>False</td>\n",
       "      <td>True</td>\n",
       "      <td>False</td>\n",
       "    </tr>\n",
       "    <tr>\n",
       "      <th>2</th>\n",
       "      <td>0</td>\n",
       "      <td>1530</td>\n",
       "      <td>381</td>\n",
       "      <td>1</td>\n",
       "      <td>398</td>\n",
       "      <td>28</td>\n",
       "      <td>48</td>\n",
       "      <td>0</td>\n",
       "      <td>1</td>\n",
       "      <td>False</td>\n",
       "      <td>True</td>\n",
       "      <td>False</td>\n",
       "      <td>False</td>\n",
       "      <td>True</td>\n",
       "      <td>False</td>\n",
       "      <td>True</td>\n",
       "      <td>False</td>\n",
       "    </tr>\n",
       "    <tr>\n",
       "      <th>3</th>\n",
       "      <td>0</td>\n",
       "      <td>688</td>\n",
       "      <td>396</td>\n",
       "      <td>10</td>\n",
       "      <td>60</td>\n",
       "      <td>49</td>\n",
       "      <td>72</td>\n",
       "      <td>0</td>\n",
       "      <td>1</td>\n",
       "      <td>True</td>\n",
       "      <td>False</td>\n",
       "      <td>False</td>\n",
       "      <td>False</td>\n",
       "      <td>False</td>\n",
       "      <td>True</td>\n",
       "      <td>True</td>\n",
       "      <td>False</td>\n",
       "    </tr>\n",
       "    <tr>\n",
       "      <th>4</th>\n",
       "      <td>0</td>\n",
       "      <td>888</td>\n",
       "      <td>348</td>\n",
       "      <td>10</td>\n",
       "      <td>51</td>\n",
       "      <td>50</td>\n",
       "      <td>6</td>\n",
       "      <td>0</td>\n",
       "      <td>0</td>\n",
       "      <td>False</td>\n",
       "      <td>True</td>\n",
       "      <td>False</td>\n",
       "      <td>False</td>\n",
       "      <td>False</td>\n",
       "      <td>True</td>\n",
       "      <td>True</td>\n",
       "      <td>False</td>\n",
       "    </tr>\n",
       "  </tbody>\n",
       "</table>\n",
       "</div>"
      ],
      "text/plain": [
       "   NDEP  RENDA  VBEM  NPARC  VPARC  IDADE  RESMS  ENTRADA  CLASSE  ESCT_0  \\\n",
       "0     0    813   552      4    119     43     48      119       1   False   \n",
       "1     0    350   488     12     66     43      0        0       1   False   \n",
       "2     0   1530   381      1    398     28     48        0       1   False   \n",
       "3     0    688   396     10     60     49     72        0       1    True   \n",
       "4     0    888   348     10     51     50      6        0       0   False   \n",
       "\n",
       "   ESCT_1  ESCT_2  ESCT_3  TIPOR_0  TIPOR_1  TEL_0  TEL_1  \n",
       "0    True   False   False     True    False   True  False  \n",
       "1   False   False    True     True    False   True  False  \n",
       "2    True   False   False     True    False   True  False  \n",
       "3   False   False   False    False     True   True  False  \n",
       "4    True   False   False    False     True   True  False  "
      ]
     },
     "execution_count": 56,
     "metadata": {},
     "output_type": "execute_result"
    }
   ],
   "source": [
    "dsTrain = pd.get_dummies(dsTrain, columns=['ESCT','TIPOR','TEL'])\n",
    "dsTeste = pd.get_dummies(dsTeste, columns=['ESCT','TIPOR','TEL'])\n",
    "\n",
    "dsTrain.head()\n",
    "dsTeste.head()"
   ]
  },
  {
   "cell_type": "markdown",
   "metadata": {},
   "source": [
    "O dataset é separado em features (X) e target (y) para o dataset de Treinamento (dsTrain) e de teste (dsTeste)\n",
    "\n",
    "Para equalizar os dados de entrada (feature), foi aplicado a função StandardScaler."
   ]
  },
  {
   "cell_type": "code",
   "execution_count": 57,
   "metadata": {},
   "outputs": [],
   "source": [
    "# Split the dataset into features (X) and the target variable (y)\n",
    "X_train = dsTrain.drop('CLASSE', axis=1)\n",
    "y_train = dsTrain['CLASSE']\n",
    "\n",
    "X_test = dsTeste.drop('CLASSE', axis=1)\n",
    "y_test = dsTeste['CLASSE']\n",
    "\n",
    "# Scale the features using StandardScaler\n",
    "scaler = StandardScaler()\n",
    "X_train = scaler.fit_transform(X_train)\n",
    "X_test = scaler.transform(X_test)\n"
   ]
  },
  {
   "cell_type": "markdown",
   "metadata": {},
   "source": [
    "Uma vez realizado o pré-processamento dos dados, o modelo será treinado com os algoritmos solicitados. Verificando a acurácia de modelo.\n",
    "\n",
    "Regressão Logística"
   ]
  },
  {
   "cell_type": "code",
   "execution_count": 58,
   "metadata": {},
   "outputs": [
    {
     "data": {
      "image/png": "[encoded data removed]",
      "text/plain": [
       "<Figure size 800x600 with 1 Axes>"
      ]
     },
     "metadata": {},
     "output_type": "display_data"
    },
    {
     "name": "stdout",
     "output_type": "stream",
     "text": [
      "Acurácia do modelo: 0.8871527777777778\n"
     ]
    }
   ],
   "source": [
    "# Criar uma lista para os valores de acurácia e os modelos\n",
    "listaModelos = ['Regressão Logística', 'Arvore de Decisão', 'Random Forest', 'K Neighbors', 'Gradient Boosting']\n",
    "listaAcuracia =[]\n",
    "\n",
    "# Aplicando a Regressão Logística\n",
    "modelLR = LogisticRegression(solver='lbfgs', random_state=0)\n",
    "modelLR.fit(X_train, y_train)\n",
    "\n",
    "# Fazer a predição da Regressão Logística\n",
    "y_predict_LR = modelLR.predict(X_test)\n",
    "\n",
    "\n",
    "# Gerar a matriz de confusão\n",
    "conf_matrix = confusion_matrix(y_test, y_predict_LR)\n",
    "\n",
    "# Calcular a acurácia\n",
    "accuracy = accuracy_score(y_test, y_predict_LR)\n",
    "listaAcuracia.append(accuracy)\n",
    "\n",
    "# Visualizar a matriz de confusão\n",
    "plt.figure(figsize=(8, 6))\n",
    "sns.heatmap(conf_matrix, annot=True, fmt=\"d\", cmap=\"BuGn\", cbar=False)\n",
    "plt.xlabel('Predito')\n",
    "plt.ylabel('Real')\n",
    "plt.title('Matriz de Confusão (Regressão Logística)')\n",
    "plt.show()\n",
    "\n",
    "print(f'Acurácia do modelo: {accuracy}')"
   ]
  },
  {
   "cell_type": "markdown",
   "metadata": {},
   "source": [
    "Decision Tree Classifier"
   ]
  },
  {
   "cell_type": "code",
   "execution_count": 59,
   "metadata": {},
   "outputs": [
    {
     "data": {
      "image/png": "[encoded data removed]",
      "text/plain": [
       "<Figure size 800x600 with 1 Axes>"
      ]
     },
     "metadata": {},
     "output_type": "display_data"
    },
    {
     "name": "stdout",
     "output_type": "stream",
     "text": [
      "Acurácia do modelo: 0.8524305555555556\n"
     ]
    }
   ],
   "source": [
    "# Aplicando a Decision Tree Classifier\n",
    "modelTree = DecisionTreeClassifier(random_state=13)\n",
    "modelTree.fit(X_train, y_train)\n",
    "\n",
    "# Fazer a predição da Decision Tree Classifier\n",
    "y_predict_Tree = modelTree.predict(X_test)\n",
    "\n",
    "# Gerar a matriz de confusão\n",
    "conf_matrix = confusion_matrix(y_test, y_predict_Tree)\n",
    "\n",
    "# Calcular a acurácia\n",
    "accuracy = accuracy_score(y_test, y_predict_Tree)\n",
    "listaAcuracia.append(accuracy)\n",
    "\n",
    "# Visualizar a Decision Tree Classifier\n",
    "plt.figure(figsize=(8, 6))\n",
    "sns.heatmap(conf_matrix, annot=True, fmt=\"d\", cmap=\"Blues\", cbar=False)\n",
    "plt.xlabel('Predito')\n",
    "plt.ylabel('Real')\n",
    "plt.title('Matriz de Confusão (Decision Tree Classifier)')\n",
    "plt.show()\n",
    "\n",
    "print(f'Acurácia do modelo: {accuracy}')\n",
    "\n"
   ]
  },
  {
   "cell_type": "markdown",
   "metadata": {},
   "source": [
    "Random Forest Classifier"
   ]
  },
  {
   "cell_type": "code",
   "execution_count": 60,
   "metadata": {},
   "outputs": [
    {
     "data": {
      "image/png": "[encoded data removed]",
      "text/plain": [
       "<Figure size 800x600 with 1 Axes>"
      ]
     },
     "metadata": {},
     "output_type": "display_data"
    },
    {
     "name": "stdout",
     "output_type": "stream",
     "text": [
      "Acurácia do modelo: 0.8541666666666666\n"
     ]
    }
   ],
   "source": [
    "# Aplicando a Random Forest Classifier\n",
    "modelRF = RandomForestClassifier(n_estimators=2, random_state=0)\n",
    "modelRF.fit(X_train, y_train)\n",
    "\n",
    "# Fazer a predição da Random Forest Classifier\n",
    "y_predict_RF = modelRF.predict(X_test)\n",
    "\n",
    "# Gerar a matriz de confusão\n",
    "conf_matrix = confusion_matrix(y_test, y_predict_RF)\n",
    "\n",
    "# Calcular a acurácia\n",
    "accuracy = accuracy_score(y_test, y_predict_RF)\n",
    "listaAcuracia.append(accuracy)\n",
    "\n",
    "# Visualizar a Random Forest Classifier\n",
    "plt.figure(figsize=(8, 6))\n",
    "sns.heatmap(conf_matrix, annot=True, fmt=\"d\", cmap=\"Blues\", cbar=False)\n",
    "plt.xlabel('Predito')\n",
    "plt.ylabel('Real')\n",
    "plt.title('Matriz de Confusão (Random Forest Classifier)')\n",
    "plt.show()\n",
    "\n",
    "print(f'Acurácia do modelo: {accuracy}')\n"
   ]
  },
  {
   "cell_type": "markdown",
   "metadata": {},
   "source": [
    "K Neighbors Classifier"
   ]
  },
  {
   "cell_type": "code",
   "execution_count": 61,
   "metadata": {},
   "outputs": [
    {
     "data": {
      "image/png": "[encoded data removed]",
      "text/plain": [
       "<Figure size 800x600 with 1 Axes>"
      ]
     },
     "metadata": {},
     "output_type": "display_data"
    },
    {
     "name": "stdout",
     "output_type": "stream",
     "text": [
      "Acurácia do modelo: 0.8663194444444444\n"
     ]
    }
   ],
   "source": [
    "# Aplicando a K Neighbors Classifier\n",
    "modelKN = KNeighborsClassifier(n_neighbors=5)\n",
    "modelKN.fit(X_train, y_train)\n",
    "\n",
    "# Fazer a predição de K Neighbors Classifier\n",
    "y_predict_KN = modelKN.predict(X_test)\n",
    "\n",
    "# Gerar a matriz de confusão\n",
    "conf_matrix = confusion_matrix(y_test, y_predict_KN)\n",
    "\n",
    "# Calcular a acurácia\n",
    "accuracy = accuracy_score(y_test, y_predict_KN)\n",
    "listaAcuracia.append(accuracy)\n",
    "\n",
    "# Visualizar a K Neighbors Classifier\n",
    "plt.figure(figsize=(8, 6))\n",
    "sns.heatmap(conf_matrix, annot=True, fmt=\"d\", cmap=\"Blues\", cbar=False)\n",
    "plt.xlabel('Predito')\n",
    "plt.ylabel('Real')\n",
    "plt.title('Matriz de Confusão (K Neighbor Classifier)')\n",
    "plt.show()\n",
    "\n",
    "print(f'Acurácia do modelo: {accuracy}')\n",
    "\n"
   ]
  },
  {
   "cell_type": "markdown",
   "metadata": {},
   "source": [
    "Gradient Boosting Classifier"
   ]
  },
  {
   "cell_type": "code",
   "execution_count": 62,
   "metadata": {},
   "outputs": [
    {
     "data": {
      "image/png": "[encoded data removed]",
      "text/plain": [
       "<Figure size 800x600 with 1 Axes>"
      ]
     },
     "metadata": {},
     "output_type": "display_data"
    },
    {
     "name": "stdout",
     "output_type": "stream",
     "text": [
      "Acurácia do modelo: 0.9027777777777778\n"
     ]
    }
   ],
   "source": [
    "# Aplicando a Gradient Boosting Classifier\n",
    "modelGB = GradientBoostingClassifier()\n",
    "modelGB.fit(X_train, y_train)\n",
    "\n",
    "# Fazer a predição de Gradient Boosting Classifier\n",
    "y_predict_GB = modelGB.predict(X_test)\n",
    "\n",
    "# Gerar a matriz de confusão\n",
    "conf_matrix = confusion_matrix(y_test, y_predict_GB)\n",
    "\n",
    "# Calcular a acurácia\n",
    "accuracy = accuracy_score(y_test, y_predict_GB)\n",
    "listaAcuracia.append(accuracy)\n",
    "\n",
    "# Visualizar a Gradiente Boosting Classifier\n",
    "plt.figure(figsize=(8, 6))\n",
    "sns.heatmap(conf_matrix, annot=True, fmt=\"d\", cmap=\"Blues\", cbar=False)\n",
    "plt.xlabel('Predito')\n",
    "plt.ylabel('Real')\n",
    "plt.title('Matriz de Confusão (Gradient Boosting Classifier)')\n",
    "plt.show()\n",
    "\n",
    "print(f'Acurácia do modelo: {accuracy}')\n",
    "\n"
   ]
  },
  {
   "cell_type": "code",
   "execution_count": 67,
   "metadata": {},
   "outputs": [
    {
     "name": "stdout",
     "output_type": "stream",
     "text": [
      "O melhor modelo é Gradient Boosting com acurácia de 0.9027777777777778\n"
     ]
    }
   ],
   "source": [
    "# Modelo com melhor precisão\n",
    "iMelhor=(listaAcuracia.index(max(listaAcuracia)))\n",
    "\n",
    "\n",
    "print(\"O melhor modelo é\", listaModelos[iMelhor], \"com acurácia de\", listaAcuracia[iMelhor])"
   ]
  }
 ],
 "metadata": {
  "kernelspec": {
   "display_name": "Python 3.12.2 64-bit (microsoft store)",
   "language": "python",
   "name": "python3"
  },
  "language_info": {
   "codemirror_mode": {
    "name": "ipython",
    "version": 3
   },
   "file_extension": ".py",
   "mimetype": "text/x-python",
   "name": "python",
   "nbconvert_exporter": "python",
   "pygments_lexer": "ipython3",
   "version": "3.11.8"
  },
  "vscode": {
   "interpreter": {
    "hash": "7ae5ae4fd88e2bd38bf8e29a2e5dfd21f9bc40e4d52fc97fa5cc46517c6bfe74"
   }
  }
 },
 "nbformat": 4,
 "nbformat_minor": 2
}
